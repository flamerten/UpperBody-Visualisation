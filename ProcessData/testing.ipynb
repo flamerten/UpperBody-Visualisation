{
 "cells": [
  {
   "attachments": {},
   "cell_type": "markdown",
   "metadata": {},
   "source": [
    "Used this script to generate and save quarternion data"
   ]
  },
  {
   "cell_type": "code",
   "execution_count": 1,
   "metadata": {},
   "outputs": [],
   "source": [
    "import pandas as pd\n",
    "import matplotlib.pyplot as plt\n",
    "import numpy as np\n",
    "import ahrs\n",
    "%matplotlib inline"
   ]
  },
  {
   "cell_type": "code",
   "execution_count": 5,
   "metadata": {},
   "outputs": [],
   "source": [
    "line = \"9,1,5b,9,9,9,9,9,9,7,7b,9,4,4b,9,\"\n",
    "tca_inds = line.split(',')\n",
    "alt_address_list = []\n",
    "tca_inds = tca_inds[:-1]\n",
    "for i in range(len(tca_inds)):\n",
    "    if len(tca_inds[i]) == 1: # alternate\n",
    "        tca_inds[i] = int(tca_inds[i])\n",
    "        alt_address_list.append(False)\n",
    "    elif len(tca_inds[i]) > 1:\n",
    "        tca_inds[i] = int(tca_inds[i][0])\n",
    "        alt_address_list.append(True)"
   ]
  },
  {
   "cell_type": "code",
   "execution_count": 6,
   "metadata": {},
   "outputs": [],
   "source": [
    "sensor_inds = tca_inds[1:]\n",
    "alt_address_list = alt_address_list[1:]\n",
    "sensor_list = []\n",
    "sensor_ind_list = []\n",
    "sensor_number = []\n",
    "sensor_cnt = 0\n",
    "sensor_rot = []\n",
    "sensor_rot_type = [0,0,1,1,3,2,2,3,1,1,1,2,2,2] # define rotation types\n",
    "sensor_labels_full = ['pelvis_imu','torso_imu','femur_l_imu','tibia_l_imu','calcn_l_imu','femur_r_imu','tibia_r_imu','calcn_r_imu','humerus_l_imu','ulna_l_imu','hand_l_imu','humerus_r_imu','ulna_r_imu','hand_r_imu']\n",
    "sensor_label_list = []\n",
    "for i, s_ind in enumerate(sensor_inds):\n",
    "    if s_ind != 9:\n",
    "        sensor_ind_list.append(s_ind)\n",
    "        len_sensor_list = len(sensor_ind_list)\n",
    "        sensor_number.append(sensor_cnt)\n",
    "        sensor_cnt += 1\n",
    "        sensor_rot.append(sensor_rot_type[i]) # say for this number sensor how to rotate it\n",
    "        sensor_label_list.append(sensor_labels_full[i])"
   ]
  },
  {
   "cell_type": "code",
   "execution_count": 7,
   "metadata": {},
   "outputs": [
    {
     "data": {
      "text/plain": [
       "[0, 0, 1, 1, 2, 2]"
      ]
     },
     "execution_count": 7,
     "metadata": {},
     "output_type": "execute_result"
    }
   ],
   "source": [
    "rot_inds = sensor_rot\n",
    "rot_inds"
   ]
  },
  {
   "cell_type": "code",
   "execution_count": 8,
   "metadata": {},
   "outputs": [],
   "source": [
    "d2g = ahrs.common.DEG2RAD\n",
    "z_neg_90 = np.array([[0,1.0,0],[-1.,0,0],[0,0,1.0]])\n",
    "y_180 = np.array([[-1.0,0,0],[0,1.0,0],[0,0,-1.0]])\n",
    "z_180 = np.array([[-1.0,0,0],[0,-1.0,0],[0,0,1.0]])\n",
    "y_neg_90 = np.array([[0,0,-1.0],[0,1.0,0],[1.0,0,0]])\n",
    "y_pos_90 = np.array([[0,0,1.0],[0,1.0,0],[-1.0,0,0]])\n",
    "ankle_offset = -100.*d2g \n",
    "x_pos_ankle = np.array([[1.0,0,0],[0,np.cos(ankle_offset),-np.sin(ankle_offset)],[0,np.sin(ankle_offset),np.cos(ankle_offset)]])\n",
    "hip_rot = np.matmul(y_neg_90,z_180)\n",
    "foot_rot = np.matmul(x_pos_ankle, hip_rot) \n",
    "r_leg_rot = z_neg_90 \n",
    "l_leg_rot = np.matmul(z_neg_90,y_180)\n",
    "rot_mats = np.zeros((len_sensor_list,3,3))\n",
    "for i in range(len_sensor_list): # define rotation type\n",
    "    if rot_inds[i] == 0: # hip, torso, head\n",
    "        rot_mats[i,:,:] = hip_rot\n",
    "    elif rot_inds[i] == 1: # left side\n",
    "        rot_mats[i,:,:] = l_leg_rot\n",
    "    elif rot_inds[i] == 2: # right side\n",
    "        rot_mats[i,:,:] = r_leg_rot\n",
    "    elif rot_inds[i] == 3: # foot\n",
    "        rot_mats[i,:,:] = foot_rot"
   ]
  },
  {
   "cell_type": "code",
   "execution_count": 11,
   "metadata": {},
   "outputs": [
    {
     "data": {
      "text/plain": [
       "(3, 3)"
      ]
     },
     "execution_count": 11,
     "metadata": {},
     "output_type": "execute_result"
    }
   ],
   "source": [
    "rot_mats[1].shape"
   ]
  },
  {
   "cell_type": "code",
   "execution_count": 13,
   "metadata": {},
   "outputs": [],
   "source": [
    "raw_imu = np.load(r\"C:\\Users\\chris\\Documents\\Visualisation\\Opensim\\Results\\23-04-03_1757\\raw_imu.npy\")"
   ]
  },
  {
   "cell_type": "code",
   "execution_count": 18,
   "metadata": {},
   "outputs": [],
   "source": [
    "new_imu = np.zeros(raw_imu.shape)"
   ]
  },
  {
   "cell_type": "code",
   "execution_count": 21,
   "metadata": {},
   "outputs": [],
   "source": [
    "t_offset = 0\n",
    "for i in range(6):\n",
    "    s_off = i*6\n",
    "    accel = np.matmul(raw_imu[:,s_off+t_offset:s_off+t_offset+3],rot_mats[i,:,:])\n",
    "    gyro = np.matmul(raw_imu[:,s_off+t_offset+3:s_off+t_offset+6],rot_mats[i,:,:])\n",
    "\n",
    "    new_imu[:,s_off:s_off+3] = accel\n",
    "    new_imu[:,s_off+3:s_off+6] = gyro"
   ]
  },
  {
   "cell_type": "code",
   "execution_count": 43,
   "metadata": {},
   "outputs": [
    {
     "name": "stdout",
     "output_type": "stream",
     "text": [
      "['0.6845986384757144', '0.5992073308343492', '-0.23389679834861177', '0.3428812718622028']\n",
      "['0.6748422967666571', '0.7322308980155436', '-0.07630167852397637', '0.05102783887719911']\n",
      "['0.6714154897949585', '0.7408884714097432', '-0.014156583842807305', '0.009225189940144077']\n",
      "['0.6516008630338784', '0.7101102297608508', '0.14260982830912902', '0.22543782679962424']\n",
      "['0.7901597551652895', '0.6002397139983825', '-0.1188489944255996', '-0.035139202897806955']\n",
      "['0.559938594293556', '0.33001825327312895', '-0.5748585299362048', '-0.4970859017178973']\n"
     ]
    }
   ],
   "source": [
    "Quats = \"0.6845986384757144,0.5992073308343492,-0.23389679834861177,0.3428812718622028\t0.6748422967666571,0.7322308980155436,-0.07630167852397637,0.05102783887719911\t0.6714154897949585,0.7408884714097432,-0.014156583842807305,0.009225189940144077\t0.6516008630338784,0.7101102297608508,0.14260982830912902,0.22543782679962424\t0.7901597551652895,0.6002397139983825,-0.1188489944255996,-0.035139202897806955\t0.559938594293556,0.33001825327312895,-0.5748585299362048,-0.4970859017178973\"\n",
    "Quats = Quats.split(\"\\t\")\n",
    "Quats = list(map(lambda x: x.split(\",\"),Quats))\n",
    "\n",
    "for i in Quats:\n",
    "    print(i)"
   ]
  },
  {
   "cell_type": "code",
   "execution_count": 54,
   "metadata": {},
   "outputs": [],
   "source": [
    "imu_data = new_imu\n",
    "\n",
    "rows = imu_data.shape[0] + 1 #include the first quat\n",
    "Q = np.tile([1., 0., 0., 0.], (rows, 6))\n",
    "\n",
    "Q[0].shape\n",
    "\n",
    "for i in range(6):\n",
    "    Q[0,4*i:4*i + 4] = list(map(float,Quats[i]))\n",
    "\n"
   ]
  },
  {
   "cell_type": "code",
   "execution_count": 55,
   "metadata": {},
   "outputs": [
    {
     "data": {
      "text/plain": [
       "array([ 0.68459864,  0.59920733, -0.2338968 ,  0.34288127,  0.6748423 ,\n",
       "        0.7322309 , -0.07630168,  0.05102784,  0.67141549,  0.74088847,\n",
       "       -0.01415658,  0.00922519,  0.65160086,  0.71011023,  0.14260983,\n",
       "        0.22543783,  0.79015976,  0.60023971, -0.11884899, -0.0351392 ,\n",
       "        0.55993859,  0.33001825, -0.57485853, -0.4970859 ])"
      ]
     },
     "execution_count": 55,
     "metadata": {},
     "output_type": "execute_result"
    }
   ],
   "source": [
    "Q[0]"
   ]
  },
  {
   "cell_type": "code",
   "execution_count": 56,
   "metadata": {},
   "outputs": [],
   "source": [
    "mahony = ahrs.filters.Mahony(frequency = float(50))\n",
    "\n",
    "for row in range(1,rows):\n",
    "    for sn in range(6):\n",
    "        imu_readings = imu_data[row-1,sn*6:sn*6 + 6]\n",
    "        accel_imu = imu_readings[:3]\n",
    "        gyro_imu = imu_readings[3:]\n",
    "\n",
    "        Q[row,4*(sn):4*(sn+1)] = mahony.updateIMU(\n",
    "            Q[row-1,4*(sn):4*(sn+1)],\n",
    "            gyr=gyro_imu,\n",
    "            acc=accel_imu)\n",
    "\n"
   ]
  },
  {
   "cell_type": "code",
   "execution_count": 57,
   "metadata": {},
   "outputs": [
    {
     "data": {
      "text/plain": [
       "array([[ 0.68459775,  0.59811618, -0.23480425, ...,  0.33230115,\n",
       "        -0.57372687, -0.49865997],\n",
       "       [ 0.68453494,  0.59717274, -0.23561242, ...,  0.33476372,\n",
       "        -0.57230797, -0.50018248],\n",
       "       [ 0.68444457,  0.5961433 , -0.23654677, ...,  0.33687224,\n",
       "        -0.57099988, -0.50187947],\n",
       "       ...,\n",
       "       [ 0.63869672,  0.5525625 , -0.29418063, ...,  0.40305098,\n",
       "        -0.36329151, -0.40337711],\n",
       "       [ 0.63842794,  0.55290106, -0.29405503, ...,  0.40452809,\n",
       "        -0.36528336, -0.40284754],\n",
       "       [ 0.63842794,  0.55290106, -0.29405503, ...,  0.40452809,\n",
       "        -0.36528336, -0.40284754]])"
      ]
     },
     "execution_count": 57,
     "metadata": {},
     "output_type": "execute_result"
    }
   ],
   "source": [
    "Q"
   ]
  },
  {
   "cell_type": "code",
   "execution_count": 60,
   "metadata": {},
   "outputs": [],
   "source": [
    "def quat_to_sto(Q,sto_filename,new_sto_filename):\n",
    "    #Copy format of the tiny_file.sto\n",
    "    f = open(sto_filename,\"r\")\n",
    "    lines = f.readlines()\n",
    "\n",
    "    new_file = open(new_sto_filename,\"w\")\n",
    "    for i in range(6):\n",
    "        new_file.write(lines[i])\n",
    "\n",
    "    data_rate = float(lines[0].split(\"=\")[-1])\n",
    "    dt = 1/data_rate\n",
    "\n",
    "    for i in range(1,Q.shape[0]): #do not write the first quat, part of calibration\n",
    "        time_stamp = (i-1)*dt\n",
    "        new_file.write(\"{}\".format(round(time_stamp,2)))\n",
    "\n",
    "        for sensor in range(6):\n",
    "            start_index = sensor * 4\n",
    "            new_file.write(\"\\t{},{},{},{}\".format(\n",
    "                Q[i,start_index],\n",
    "                Q[i,start_index+1],\n",
    "                Q[i,start_index+2],\n",
    "                Q[i,start_index+3]))\n",
    "        new_file.write(\"\\n\")\n",
    "    \n",
    "    new_file.close()\n",
    "\n",
    "sto_filename = r\"C:\\Users\\chris\\Documents\\Visualisation\\Opensim\\Results\\23-04-03_1757\\tiny_file.sto\"\n",
    "new_sto_file = r\"C:\\Users\\chris\\Documents\\Visualisation\\Opensim\\Results\\23-04-03_1757\\processed_tiny_file.sto\""
   ]
  },
  {
   "cell_type": "code",
   "execution_count": 61,
   "metadata": {},
   "outputs": [],
   "source": [
    "quat_to_sto(Q,sto_filename,new_sto_file)"
   ]
  },
  {
   "cell_type": "code",
   "execution_count": 63,
   "metadata": {},
   "outputs": [],
   "source": [
    "np.save(r\"C:\\Users\\chris\\Documents\\Visualisation\\Opensim\\rot_mats.npy\",rot_mats)"
   ]
  },
  {
   "cell_type": "code",
   "execution_count": 2,
   "metadata": {},
   "outputs": [],
   "source": [
    "imu_data = np.random.rand(1,36)"
   ]
  },
  {
   "cell_type": "code",
   "execution_count": 3,
   "metadata": {},
   "outputs": [
    {
     "data": {
      "text/plain": [
       "array([[0.25772837, 0.58753477, 0.87024191, 0.10421668, 0.3661047 ,\n",
       "        0.9237946 , 0.11599963, 0.98932666, 0.15463592, 0.59367452,\n",
       "        0.25487759, 0.08941565, 0.95451599, 0.40361785, 0.16547417,\n",
       "        0.19003998, 0.90507174, 0.37142246, 0.35131373, 0.63586574,\n",
       "        0.69417198, 0.03396064, 0.11623151, 0.36747278, 0.64809746,\n",
       "        0.33497764, 0.65180607, 0.91655819, 0.08832065, 0.91139443,\n",
       "        0.42490401, 0.80814787, 0.82843974, 0.17172148, 0.51087878,\n",
       "        0.16535852]])"
      ]
     },
     "execution_count": 3,
     "metadata": {},
     "output_type": "execute_result"
    }
   ],
   "source": [
    "imu_data"
   ]
  },
  {
   "cell_type": "code",
   "execution_count": 12,
   "metadata": {},
   "outputs": [],
   "source": [
    "Q = np.tile([1,0,0,0],(1,6))"
   ]
  },
  {
   "cell_type": "code",
   "execution_count": 14,
   "metadata": {},
   "outputs": [
    {
     "data": {
      "text/plain": [
       "(1, 24)"
      ]
     },
     "execution_count": 14,
     "metadata": {},
     "output_type": "execute_result"
    }
   ],
   "source": [
    "Q.shape"
   ]
  },
  {
   "cell_type": "code",
   "execution_count": 15,
   "metadata": {},
   "outputs": [
    {
     "data": {
      "text/plain": [
       "array([[0, 0, 0],\n",
       "       [1, 0, 1],\n",
       "       [1, 0, 1]])"
      ]
     },
     "execution_count": 15,
     "metadata": {},
     "output_type": "execute_result"
    }
   ],
   "source": [
    "np.array([[0,0,0],[1,0,1],[1,0,1]])"
   ]
  },
  {
   "cell_type": "code",
   "execution_count": 16,
   "metadata": {},
   "outputs": [
    {
     "data": {
      "text/plain": [
       "array([[0.25, 0.9 , 0.9 , 0.4 , 0.25, 0.9 , 0.9 , 0.4 , 0.25, 0.9 , 0.9 ,\n",
       "        0.4 , 0.25, 0.9 , 0.9 , 0.4 , 0.25, 0.9 , 0.9 , 0.4 , 0.25, 0.9 ,\n",
       "        0.9 , 0.4 ]])"
      ]
     },
     "execution_count": 16,
     "metadata": {},
     "output_type": "execute_result"
    }
   ],
   "source": [
    "Q = np.tile([0.25,0.9,0.9,0.4],(1,6))\n",
    "Q=Q.reshape((6,4))\n",
    "Q"
   ]
  },
  {
   "cell_type": "code",
   "execution_count": null,
   "metadata": {},
   "outputs": [],
   "source": []
  }
 ],
 "metadata": {
  "kernelspec": {
   "display_name": "Python 3",
   "language": "python",
   "name": "python3"
  },
  "language_info": {
   "codemirror_mode": {
    "name": "ipython",
    "version": 3
   },
   "file_extension": ".py",
   "mimetype": "text/x-python",
   "name": "python",
   "nbconvert_exporter": "python",
   "pygments_lexer": "ipython3",
   "version": "3.8.10"
  },
  "orig_nbformat": 4
 },
 "nbformat": 4,
 "nbformat_minor": 2
}
