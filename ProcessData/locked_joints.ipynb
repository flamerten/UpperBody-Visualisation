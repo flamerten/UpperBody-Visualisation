{
 "cells": [
  {
   "cell_type": "code",
   "execution_count": 1,
   "metadata": {},
   "outputs": [],
   "source": [
    "%matplotlib inline\n",
    "import pandas as pd\n",
    "import matplotlib.pyplot as plt\n",
    "import numpy as np"
   ]
  },
  {
   "cell_type": "code",
   "execution_count": 3,
   "metadata": {},
   "outputs": [
    {
     "name": "stdout",
     "output_type": "stream",
     "text": [
      "C:\\Users\\chris\\Documents\\Visualisation\\Opensim\\Results\\300323-1451\n",
      " Volume in drive C is OS\n",
      " Volume Serial Number is 745B-5276\n",
      "\n",
      " Directory of C:\\Users\\chris\\Documents\\Visualisation\\Opensim\\Results\\300323-1451\n",
      "\n",
      "03/30/2023  03:05 PM    <DIR>          .\n",
      "03/30/2023  03:05 PM    <DIR>          ..\n",
      "03/30/2023  02:51 PM           342,167 Calibrated_Locked_Rajagopal_2015.osim\n",
      "03/30/2023  02:51 PM           436,622 ik_tiny_file.mot\n",
      "03/30/2023  02:51 PM            94,042 ik_tiny_file_orientationErrors.sto\n",
      "03/30/2023  02:51 PM                25 motion_info.txt\n",
      "03/30/2023  03:02 PM        24,538,873 OpenSim 4.4 2023-03-30 15-01-43.mp4\n",
      "03/30/2023  03:03 PM        15,379,871 PXL_20230330_125105191.TS.mp4\n",
      "03/30/2023  02:51 PM           360,311 tiny_file.sto\n",
      "               7 File(s)     41,151,911 bytes\n",
      "               2 Dir(s)  336,044,670,976 bytes free\n"
     ]
    }
   ],
   "source": [
    "%cd \"C:\\Users\\chris\\Documents\\Visualisation\\Opensim\\Results\\300323-1451\"\n",
    "%ls"
   ]
  },
  {
   "cell_type": "code",
   "execution_count": 12,
   "metadata": {},
   "outputs": [
    {
     "data": {
      "text/html": [
       "<div>\n",
       "<style scoped>\n",
       "    .dataframe tbody tr th:only-of-type {\n",
       "        vertical-align: middle;\n",
       "    }\n",
       "\n",
       "    .dataframe tbody tr th {\n",
       "        vertical-align: top;\n",
       "    }\n",
       "\n",
       "    .dataframe thead th {\n",
       "        text-align: right;\n",
       "    }\n",
       "</style>\n",
       "<table border=\"1\" class=\"dataframe\">\n",
       "  <thead>\n",
       "    <tr style=\"text-align: right;\">\n",
       "      <th></th>\n",
       "      <th>time</th>\n",
       "      <th>pelvis_tilt</th>\n",
       "      <th>pelvis_list</th>\n",
       "      <th>pelvis_rotation</th>\n",
       "      <th>pelvis_tx</th>\n",
       "      <th>pelvis_ty</th>\n",
       "      <th>pelvis_tz</th>\n",
       "      <th>hip_flexion_r</th>\n",
       "      <th>hip_adduction_r</th>\n",
       "      <th>hip_rotation_r</th>\n",
       "      <th>...</th>\n",
       "      <th>pro_sup_r</th>\n",
       "      <th>wrist_flex_r</th>\n",
       "      <th>wrist_dev_r</th>\n",
       "      <th>arm_flex_l</th>\n",
       "      <th>arm_add_l</th>\n",
       "      <th>arm_rot_l</th>\n",
       "      <th>elbow_flex_l</th>\n",
       "      <th>pro_sup_l</th>\n",
       "      <th>wrist_flex_l</th>\n",
       "      <th>wrist_dev_l</th>\n",
       "    </tr>\n",
       "  </thead>\n",
       "  <tbody>\n",
       "    <tr>\n",
       "      <th>0</th>\n",
       "      <td>0.00</td>\n",
       "      <td>0.0</td>\n",
       "      <td>0.0</td>\n",
       "      <td>0.000000</td>\n",
       "      <td>0.0</td>\n",
       "      <td>0.94</td>\n",
       "      <td>0.0</td>\n",
       "      <td>0.0</td>\n",
       "      <td>0.0</td>\n",
       "      <td>0.0</td>\n",
       "      <td>...</td>\n",
       "      <td>0.000000e+00</td>\n",
       "      <td>0.0</td>\n",
       "      <td>0.0</td>\n",
       "      <td>0.000000</td>\n",
       "      <td>0.000000</td>\n",
       "      <td>0.000000</td>\n",
       "      <td>0.000000</td>\n",
       "      <td>0.000000e+00</td>\n",
       "      <td>0.0</td>\n",
       "      <td>6.515</td>\n",
       "    </tr>\n",
       "    <tr>\n",
       "      <th>1</th>\n",
       "      <td>0.02</td>\n",
       "      <td>0.0</td>\n",
       "      <td>0.0</td>\n",
       "      <td>0.013496</td>\n",
       "      <td>0.0</td>\n",
       "      <td>0.94</td>\n",
       "      <td>0.0</td>\n",
       "      <td>0.0</td>\n",
       "      <td>0.0</td>\n",
       "      <td>0.0</td>\n",
       "      <td>...</td>\n",
       "      <td>0.000000e+00</td>\n",
       "      <td>0.0</td>\n",
       "      <td>0.0</td>\n",
       "      <td>-0.123308</td>\n",
       "      <td>-0.033334</td>\n",
       "      <td>-0.000912</td>\n",
       "      <td>0.476000</td>\n",
       "      <td>0.000000e+00</td>\n",
       "      <td>0.0</td>\n",
       "      <td>6.515</td>\n",
       "    </tr>\n",
       "    <tr>\n",
       "      <th>2</th>\n",
       "      <td>0.04</td>\n",
       "      <td>0.0</td>\n",
       "      <td>0.0</td>\n",
       "      <td>0.010502</td>\n",
       "      <td>0.0</td>\n",
       "      <td>0.94</td>\n",
       "      <td>0.0</td>\n",
       "      <td>0.0</td>\n",
       "      <td>0.0</td>\n",
       "      <td>0.0</td>\n",
       "      <td>...</td>\n",
       "      <td>0.000000e+00</td>\n",
       "      <td>0.0</td>\n",
       "      <td>0.0</td>\n",
       "      <td>-0.118111</td>\n",
       "      <td>0.028394</td>\n",
       "      <td>0.012652</td>\n",
       "      <td>0.396542</td>\n",
       "      <td>0.000000e+00</td>\n",
       "      <td>0.0</td>\n",
       "      <td>6.515</td>\n",
       "    </tr>\n",
       "    <tr>\n",
       "      <th>3</th>\n",
       "      <td>0.06</td>\n",
       "      <td>0.0</td>\n",
       "      <td>0.0</td>\n",
       "      <td>0.006858</td>\n",
       "      <td>0.0</td>\n",
       "      <td>0.94</td>\n",
       "      <td>0.0</td>\n",
       "      <td>0.0</td>\n",
       "      <td>0.0</td>\n",
       "      <td>0.0</td>\n",
       "      <td>...</td>\n",
       "      <td>0.000000e+00</td>\n",
       "      <td>0.0</td>\n",
       "      <td>0.0</td>\n",
       "      <td>0.050187</td>\n",
       "      <td>0.077061</td>\n",
       "      <td>0.059549</td>\n",
       "      <td>0.319236</td>\n",
       "      <td>0.000000e+00</td>\n",
       "      <td>0.0</td>\n",
       "      <td>6.515</td>\n",
       "    </tr>\n",
       "    <tr>\n",
       "      <th>4</th>\n",
       "      <td>0.08</td>\n",
       "      <td>0.0</td>\n",
       "      <td>0.0</td>\n",
       "      <td>0.019835</td>\n",
       "      <td>0.0</td>\n",
       "      <td>0.94</td>\n",
       "      <td>0.0</td>\n",
       "      <td>0.0</td>\n",
       "      <td>0.0</td>\n",
       "      <td>0.0</td>\n",
       "      <td>...</td>\n",
       "      <td>2.583563e-40</td>\n",
       "      <td>0.0</td>\n",
       "      <td>0.0</td>\n",
       "      <td>0.060611</td>\n",
       "      <td>0.061438</td>\n",
       "      <td>0.069056</td>\n",
       "      <td>0.280106</td>\n",
       "      <td>2.583563e-40</td>\n",
       "      <td>0.0</td>\n",
       "      <td>6.515</td>\n",
       "    </tr>\n",
       "  </tbody>\n",
       "</table>\n",
       "<p>5 rows × 40 columns</p>\n",
       "</div>"
      ],
      "text/plain": [
       "   time  pelvis_tilt  pelvis_list  pelvis_rotation  pelvis_tx  pelvis_ty  \\\n",
       "0  0.00          0.0          0.0         0.000000        0.0       0.94   \n",
       "1  0.02          0.0          0.0         0.013496        0.0       0.94   \n",
       "2  0.04          0.0          0.0         0.010502        0.0       0.94   \n",
       "3  0.06          0.0          0.0         0.006858        0.0       0.94   \n",
       "4  0.08          0.0          0.0         0.019835        0.0       0.94   \n",
       "\n",
       "   pelvis_tz  hip_flexion_r  hip_adduction_r  hip_rotation_r  ...  \\\n",
       "0        0.0            0.0              0.0             0.0  ...   \n",
       "1        0.0            0.0              0.0             0.0  ...   \n",
       "2        0.0            0.0              0.0             0.0  ...   \n",
       "3        0.0            0.0              0.0             0.0  ...   \n",
       "4        0.0            0.0              0.0             0.0  ...   \n",
       "\n",
       "      pro_sup_r  wrist_flex_r  wrist_dev_r  arm_flex_l  arm_add_l  arm_rot_l  \\\n",
       "0  0.000000e+00           0.0          0.0    0.000000   0.000000   0.000000   \n",
       "1  0.000000e+00           0.0          0.0   -0.123308  -0.033334  -0.000912   \n",
       "2  0.000000e+00           0.0          0.0   -0.118111   0.028394   0.012652   \n",
       "3  0.000000e+00           0.0          0.0    0.050187   0.077061   0.059549   \n",
       "4  2.583563e-40           0.0          0.0    0.060611   0.061438   0.069056   \n",
       "\n",
       "   elbow_flex_l     pro_sup_l  wrist_flex_l  wrist_dev_l  \n",
       "0      0.000000  0.000000e+00           0.0        6.515  \n",
       "1      0.476000  0.000000e+00           0.0        6.515  \n",
       "2      0.396542  0.000000e+00           0.0        6.515  \n",
       "3      0.319236  0.000000e+00           0.0        6.515  \n",
       "4      0.280106  2.583563e-40           0.0        6.515  \n",
       "\n",
       "[5 rows x 40 columns]"
      ]
     },
     "execution_count": 12,
     "metadata": {},
     "output_type": "execute_result"
    }
   ],
   "source": [
    "df = pd.read_csv(\"ik_tiny_file.mot\",sep='\\t',skiprows=6)\n",
    "df.head()"
   ]
  },
  {
   "cell_type": "code",
   "execution_count": 13,
   "metadata": {},
   "outputs": [
    {
     "data": {
      "text/plain": [
       "Index(['time', 'pelvis_tilt', 'pelvis_list', 'pelvis_rotation', 'pelvis_tx',\n",
       "       'pelvis_ty', 'pelvis_tz', 'hip_flexion_r', 'hip_adduction_r',\n",
       "       'hip_rotation_r', 'knee_angle_r', 'knee_angle_r_beta', 'ankle_angle_r',\n",
       "       'subtalar_angle_r', 'mtp_angle_r', 'hip_flexion_l', 'hip_adduction_l',\n",
       "       'hip_rotation_l', 'knee_angle_l', 'knee_angle_l_beta', 'ankle_angle_l',\n",
       "       'subtalar_angle_l', 'mtp_angle_l', 'lumbar_extension', 'lumbar_bending',\n",
       "       'lumbar_rotation', 'arm_flex_r', 'arm_add_r', 'arm_rot_r',\n",
       "       'elbow_flex_r', 'pro_sup_r', 'wrist_flex_r', 'wrist_dev_r',\n",
       "       'arm_flex_l', 'arm_add_l', 'arm_rot_l', 'elbow_flex_l', 'pro_sup_l',\n",
       "       'wrist_flex_l', 'wrist_dev_l'],\n",
       "      dtype='object')"
      ]
     },
     "execution_count": 13,
     "metadata": {},
     "output_type": "execute_result"
    }
   ],
   "source": [
    "df.columns"
   ]
  },
  {
   "cell_type": "code",
   "execution_count": 18,
   "metadata": {},
   "outputs": [
    {
     "name": "stdout",
     "output_type": "stream",
     "text": [
      "5.2860727221126915e-11\n",
      "-1.989729674594836e-11\n",
      "0 3\n"
     ]
    }
   ],
   "source": [
    "print(df[\"pelvis_list\"].max())\n",
    "print(df[\"pelvis_list\"].min())\n",
    "print(round(df[\"pelvis_list\"].max()-df[\"pelvis_list\"].min()),3)\n"
   ]
  },
  {
   "cell_type": "code",
   "execution_count": 19,
   "metadata": {},
   "outputs": [
    {
     "name": "stdout",
     "output_type": "stream",
     "text": [
      "['pelvis_tilt', 'pelvis_list', 'pelvis_tx', 'pelvis_ty', 'pelvis_tz', 'hip_flexion_r', 'hip_adduction_r', 'hip_rotation_r', 'knee_angle_r', 'knee_angle_r_beta', 'ankle_angle_r', 'subtalar_angle_r', 'mtp_angle_r', 'hip_flexion_l', 'hip_adduction_l', 'hip_rotation_l', 'knee_angle_l', 'knee_angle_l_beta', 'ankle_angle_l', 'subtalar_angle_l', 'mtp_angle_l', 'pro_sup_r', 'wrist_flex_r', 'wrist_dev_r', 'pro_sup_l', 'wrist_flex_l', 'wrist_dev_l']\n"
     ]
    }
   ],
   "source": [
    "locked_joints = []\n",
    "for joint in df.columns[1:]:\n",
    "    if round(df[joint].max()-df[joint].min(),3) == 0:\n",
    "        locked_joints.append(joint)\n",
    "print(locked_joints)"
   ]
  },
  {
   "cell_type": "code",
   "execution_count": 20,
   "metadata": {},
   "outputs": [
    {
     "name": "stdout",
     "output_type": "stream",
     "text": [
      "Index(['time', 'pelvis_rotation', 'lumbar_extension', 'lumbar_bending',\n",
      "       'lumbar_rotation', 'arm_flex_r', 'arm_add_r', 'arm_rot_r',\n",
      "       'elbow_flex_r', 'arm_flex_l', 'arm_add_l', 'arm_rot_l', 'elbow_flex_l'],\n",
      "      dtype='object')\n"
     ]
    }
   ],
   "source": [
    "unlocked_joints = df.drop(columns = locked_joints)\n",
    "print(unlocked_joints.columns)"
   ]
  },
  {
   "cell_type": "code",
   "execution_count": null,
   "metadata": {},
   "outputs": [],
   "source": []
  }
 ],
 "metadata": {
  "kernelspec": {
   "display_name": "Python 3",
   "language": "python",
   "name": "python3"
  },
  "language_info": {
   "codemirror_mode": {
    "name": "ipython",
    "version": 3
   },
   "file_extension": ".py",
   "mimetype": "text/x-python",
   "name": "python",
   "nbconvert_exporter": "python",
   "pygments_lexer": "ipython3",
   "version": "3.8.10"
  },
  "orig_nbformat": 4
 },
 "nbformat": 4,
 "nbformat_minor": 2
}
