{
 "cells": [
  {
   "cell_type": "code",
   "execution_count": 1,
   "metadata": {},
   "outputs": [],
   "source": [
    "import numpy as np\n",
    "imu = np.load(r\"C:\\Users\\chris\\Documents\\Visualisation\\Opensim\\Results\\23-04-03_1333\\raw_imu.npy\")"
   ]
  },
  {
   "cell_type": "code",
   "execution_count": 13,
   "metadata": {},
   "outputs": [
    {
     "data": {
      "text/html": [
       "<div>\n",
       "<style scoped>\n",
       "    .dataframe tbody tr th:only-of-type {\n",
       "        vertical-align: middle;\n",
       "    }\n",
       "\n",
       "    .dataframe tbody tr th {\n",
       "        vertical-align: top;\n",
       "    }\n",
       "\n",
       "    .dataframe thead th {\n",
       "        text-align: right;\n",
       "    }\n",
       "</style>\n",
       "<table border=\"1\" class=\"dataframe\">\n",
       "  <thead>\n",
       "    <tr style=\"text-align: right;\">\n",
       "      <th></th>\n",
       "      <th>time</th>\n",
       "      <th>Unnamed: 1</th>\n",
       "      <th>pelvis_imu</th>\n",
       "      <th>torso_imu</th>\n",
       "      <th>humerus_l_imu</th>\n",
       "      <th>ulna_l_imu</th>\n",
       "      <th>humerus_r_imu</th>\n",
       "      <th>ulna_r_imu</th>\n",
       "    </tr>\n",
       "  </thead>\n",
       "  <tbody>\n",
       "    <tr>\n",
       "      <th>0</th>\n",
       "      <td>0.00</td>\n",
       "      <td>0.6781073700985305,0.7292247296983889,0.077226...</td>\n",
       "      <td>0.5267788210297139,0.7107991576873354,0.306925...</td>\n",
       "      <td>-0.1262844307906099,0.9502571036614674,0.18601...</td>\n",
       "      <td>0.08028939056808095,0.9366942356173682,0.24115...</td>\n",
       "      <td>0.9880350929635114,-0.12473992512115281,-0.047...</td>\n",
       "      <td>0.9620585216063487,0.016001609847570385,0.1827...</td>\n",
       "      <td>NaN</td>\n",
       "    </tr>\n",
       "    <tr>\n",
       "      <th>1</th>\n",
       "      <td>0.01</td>\n",
       "      <td>0.6781119662852204,0.729220160656732,0.0772440...</td>\n",
       "      <td>0.5267630987516311,0.7108094151914149,0.306893...</td>\n",
       "      <td>-0.1262905084969475,0.9502717284773242,0.18595...</td>\n",
       "      <td>0.08028395008192744,0.936699199417623,0.241162...</td>\n",
       "      <td>0.9880294090514246,-0.12474278425925914,-0.047...</td>\n",
       "      <td>0.962046795702436,0.015996447880366495,0.18279...</td>\n",
       "      <td>NaN</td>\n",
       "    </tr>\n",
       "    <tr>\n",
       "      <th>2</th>\n",
       "      <td>0.02</td>\n",
       "      <td>0.6781140895208073,0.7292178197566591,0.077263...</td>\n",
       "      <td>0.5267437527564494,0.7108239609365249,0.306863...</td>\n",
       "      <td>-0.12630548089634597,0.9502865808924507,0.1858...</td>\n",
       "      <td>0.08026766702729586,0.9367084323295534,0.24117...</td>\n",
       "      <td>0.9880219702300347,-0.12475654294565616,-0.047...</td>\n",
       "      <td>0.9620386063414693,0.015994029987088456,0.1828...</td>\n",
       "      <td>NaN</td>\n",
       "    </tr>\n",
       "    <tr>\n",
       "      <th>3</th>\n",
       "      <td>0.03</td>\n",
       "      <td>0.6781195493406986,0.7292121998138403,0.077282...</td>\n",
       "      <td>0.5267226494560744,0.710835079734206,0.3068337...</td>\n",
       "      <td>-0.1263213810406144,0.9502997227275916,0.18584...</td>\n",
       "      <td>0.08025845750075397,0.9367090844458033,0.24117...</td>\n",
       "      <td>0.98801498158514,-0.12477243544927714,-0.04711...</td>\n",
       "      <td>0.9620350761457938,0.01598291581150186,0.18281...</td>\n",
       "      <td>NaN</td>\n",
       "    </tr>\n",
       "    <tr>\n",
       "      <th>4</th>\n",
       "      <td>0.04</td>\n",
       "      <td>0.6781252865677666,0.72920591091593,0.07730103...</td>\n",
       "      <td>0.5267070443600406,0.7108492549968615,0.306796...</td>\n",
       "      <td>-0.12632417444753882,0.9503124398566852,0.1857...</td>\n",
       "      <td>0.08026115748901116,0.9367097956675403,0.24118...</td>\n",
       "      <td>0.9880091949718581,-0.12478652614718287,-0.047...</td>\n",
       "      <td>0.962031887354786,0.01598210917019647,0.182817...</td>\n",
       "      <td>NaN</td>\n",
       "    </tr>\n",
       "  </tbody>\n",
       "</table>\n",
       "</div>"
      ],
      "text/plain": [
       "   time                                         Unnamed: 1  \\\n",
       "0  0.00  0.6781073700985305,0.7292247296983889,0.077226...   \n",
       "1  0.01  0.6781119662852204,0.729220160656732,0.0772440...   \n",
       "2  0.02  0.6781140895208073,0.7292178197566591,0.077263...   \n",
       "3  0.03  0.6781195493406986,0.7292121998138403,0.077282...   \n",
       "4  0.04  0.6781252865677666,0.72920591091593,0.07730103...   \n",
       "\n",
       "                                          pelvis_imu  \\\n",
       "0  0.5267788210297139,0.7107991576873354,0.306925...   \n",
       "1  0.5267630987516311,0.7108094151914149,0.306893...   \n",
       "2  0.5267437527564494,0.7108239609365249,0.306863...   \n",
       "3  0.5267226494560744,0.710835079734206,0.3068337...   \n",
       "4  0.5267070443600406,0.7108492549968615,0.306796...   \n",
       "\n",
       "                                           torso_imu  \\\n",
       "0  -0.1262844307906099,0.9502571036614674,0.18601...   \n",
       "1  -0.1262905084969475,0.9502717284773242,0.18595...   \n",
       "2  -0.12630548089634597,0.9502865808924507,0.1858...   \n",
       "3  -0.1263213810406144,0.9502997227275916,0.18584...   \n",
       "4  -0.12632417444753882,0.9503124398566852,0.1857...   \n",
       "\n",
       "                                       humerus_l_imu  \\\n",
       "0  0.08028939056808095,0.9366942356173682,0.24115...   \n",
       "1  0.08028395008192744,0.936699199417623,0.241162...   \n",
       "2  0.08026766702729586,0.9367084323295534,0.24117...   \n",
       "3  0.08025845750075397,0.9367090844458033,0.24117...   \n",
       "4  0.08026115748901116,0.9367097956675403,0.24118...   \n",
       "\n",
       "                                          ulna_l_imu  \\\n",
       "0  0.9880350929635114,-0.12473992512115281,-0.047...   \n",
       "1  0.9880294090514246,-0.12474278425925914,-0.047...   \n",
       "2  0.9880219702300347,-0.12475654294565616,-0.047...   \n",
       "3  0.98801498158514,-0.12477243544927714,-0.04711...   \n",
       "4  0.9880091949718581,-0.12478652614718287,-0.047...   \n",
       "\n",
       "                                       humerus_r_imu  ulna_r_imu  \n",
       "0  0.9620585216063487,0.016001609847570385,0.1827...         NaN  \n",
       "1  0.962046795702436,0.015996447880366495,0.18279...         NaN  \n",
       "2  0.9620386063414693,0.015994029987088456,0.1828...         NaN  \n",
       "3  0.9620350761457938,0.01598291581150186,0.18281...         NaN  \n",
       "4  0.962031887354786,0.01598210917019647,0.182817...         NaN  "
      ]
     },
     "execution_count": 13,
     "metadata": {},
     "output_type": "execute_result"
    }
   ],
   "source": [
    "import pandas as pd\n",
    "quat = pd.read_csv(r\"C:\\Users\\chris\\Documents\\Visualisation\\Opensim\\Results\\23-04-03_1333\\tiny_file.sto\",sep='\\t',skiprows=5)\n",
    "quat.head()"
   ]
  },
  {
   "cell_type": "code",
   "execution_count": 15,
   "metadata": {},
   "outputs": [
    {
     "data": {
      "text/html": [
       "<div>\n",
       "<style scoped>\n",
       "    .dataframe tbody tr th:only-of-type {\n",
       "        vertical-align: middle;\n",
       "    }\n",
       "\n",
       "    .dataframe tbody tr th {\n",
       "        vertical-align: top;\n",
       "    }\n",
       "\n",
       "    .dataframe thead th {\n",
       "        text-align: right;\n",
       "    }\n",
       "</style>\n",
       "<table border=\"1\" class=\"dataframe\">\n",
       "  <thead>\n",
       "    <tr style=\"text-align: right;\">\n",
       "      <th></th>\n",
       "      <th>time</th>\n",
       "      <th>pelvis_imu</th>\n",
       "      <th>torso_imu</th>\n",
       "      <th>humerus_l_imu</th>\n",
       "      <th>ulna_l_imu</th>\n",
       "      <th>humerus_r_imu</th>\n",
       "      <th>ulna_r_imu</th>\n",
       "    </tr>\n",
       "  </thead>\n",
       "  <tbody>\n",
       "    <tr>\n",
       "      <th>0</th>\n",
       "      <td>0.00</td>\n",
       "      <td>0.6781073700985305,0.7292247296983889,0.077226...</td>\n",
       "      <td>0.5267788210297139,0.7107991576873354,0.306925...</td>\n",
       "      <td>-0.1262844307906099,0.9502571036614674,0.18601...</td>\n",
       "      <td>0.08028939056808095,0.9366942356173682,0.24115...</td>\n",
       "      <td>0.9880350929635114,-0.12473992512115281,-0.047...</td>\n",
       "      <td>0.9620585216063487,0.016001609847570385,0.1827...</td>\n",
       "    </tr>\n",
       "    <tr>\n",
       "      <th>1</th>\n",
       "      <td>0.01</td>\n",
       "      <td>0.6781119662852204,0.729220160656732,0.0772440...</td>\n",
       "      <td>0.5267630987516311,0.7108094151914149,0.306893...</td>\n",
       "      <td>-0.1262905084969475,0.9502717284773242,0.18595...</td>\n",
       "      <td>0.08028395008192744,0.936699199417623,0.241162...</td>\n",
       "      <td>0.9880294090514246,-0.12474278425925914,-0.047...</td>\n",
       "      <td>0.962046795702436,0.015996447880366495,0.18279...</td>\n",
       "    </tr>\n",
       "    <tr>\n",
       "      <th>2</th>\n",
       "      <td>0.02</td>\n",
       "      <td>0.6781140895208073,0.7292178197566591,0.077263...</td>\n",
       "      <td>0.5267437527564494,0.7108239609365249,0.306863...</td>\n",
       "      <td>-0.12630548089634597,0.9502865808924507,0.1858...</td>\n",
       "      <td>0.08026766702729586,0.9367084323295534,0.24117...</td>\n",
       "      <td>0.9880219702300347,-0.12475654294565616,-0.047...</td>\n",
       "      <td>0.9620386063414693,0.015994029987088456,0.1828...</td>\n",
       "    </tr>\n",
       "    <tr>\n",
       "      <th>3</th>\n",
       "      <td>0.03</td>\n",
       "      <td>0.6781195493406986,0.7292121998138403,0.077282...</td>\n",
       "      <td>0.5267226494560744,0.710835079734206,0.3068337...</td>\n",
       "      <td>-0.1263213810406144,0.9502997227275916,0.18584...</td>\n",
       "      <td>0.08025845750075397,0.9367090844458033,0.24117...</td>\n",
       "      <td>0.98801498158514,-0.12477243544927714,-0.04711...</td>\n",
       "      <td>0.9620350761457938,0.01598291581150186,0.18281...</td>\n",
       "    </tr>\n",
       "    <tr>\n",
       "      <th>4</th>\n",
       "      <td>0.04</td>\n",
       "      <td>0.6781252865677666,0.72920591091593,0.07730103...</td>\n",
       "      <td>0.5267070443600406,0.7108492549968615,0.306796...</td>\n",
       "      <td>-0.12632417444753882,0.9503124398566852,0.1857...</td>\n",
       "      <td>0.08026115748901116,0.9367097956675403,0.24118...</td>\n",
       "      <td>0.9880091949718581,-0.12478652614718287,-0.047...</td>\n",
       "      <td>0.962031887354786,0.01598210917019647,0.182817...</td>\n",
       "    </tr>\n",
       "  </tbody>\n",
       "</table>\n",
       "</div>"
      ],
      "text/plain": [
       "   time                                         pelvis_imu  \\\n",
       "0  0.00  0.6781073700985305,0.7292247296983889,0.077226...   \n",
       "1  0.01  0.6781119662852204,0.729220160656732,0.0772440...   \n",
       "2  0.02  0.6781140895208073,0.7292178197566591,0.077263...   \n",
       "3  0.03  0.6781195493406986,0.7292121998138403,0.077282...   \n",
       "4  0.04  0.6781252865677666,0.72920591091593,0.07730103...   \n",
       "\n",
       "                                           torso_imu  \\\n",
       "0  0.5267788210297139,0.7107991576873354,0.306925...   \n",
       "1  0.5267630987516311,0.7108094151914149,0.306893...   \n",
       "2  0.5267437527564494,0.7108239609365249,0.306863...   \n",
       "3  0.5267226494560744,0.710835079734206,0.3068337...   \n",
       "4  0.5267070443600406,0.7108492549968615,0.306796...   \n",
       "\n",
       "                                       humerus_l_imu  \\\n",
       "0  -0.1262844307906099,0.9502571036614674,0.18601...   \n",
       "1  -0.1262905084969475,0.9502717284773242,0.18595...   \n",
       "2  -0.12630548089634597,0.9502865808924507,0.1858...   \n",
       "3  -0.1263213810406144,0.9502997227275916,0.18584...   \n",
       "4  -0.12632417444753882,0.9503124398566852,0.1857...   \n",
       "\n",
       "                                          ulna_l_imu  \\\n",
       "0  0.08028939056808095,0.9366942356173682,0.24115...   \n",
       "1  0.08028395008192744,0.936699199417623,0.241162...   \n",
       "2  0.08026766702729586,0.9367084323295534,0.24117...   \n",
       "3  0.08025845750075397,0.9367090844458033,0.24117...   \n",
       "4  0.08026115748901116,0.9367097956675403,0.24118...   \n",
       "\n",
       "                                       humerus_r_imu  \\\n",
       "0  0.9880350929635114,-0.12473992512115281,-0.047...   \n",
       "1  0.9880294090514246,-0.12474278425925914,-0.047...   \n",
       "2  0.9880219702300347,-0.12475654294565616,-0.047...   \n",
       "3  0.98801498158514,-0.12477243544927714,-0.04711...   \n",
       "4  0.9880091949718581,-0.12478652614718287,-0.047...   \n",
       "\n",
       "                                          ulna_r_imu  \n",
       "0  0.9620585216063487,0.016001609847570385,0.1827...  \n",
       "1  0.962046795702436,0.015996447880366495,0.18279...  \n",
       "2  0.9620386063414693,0.015994029987088456,0.1828...  \n",
       "3  0.9620350761457938,0.01598291581150186,0.18281...  \n",
       "4  0.962031887354786,0.01598210917019647,0.182817...  "
      ]
     },
     "execution_count": 15,
     "metadata": {},
     "output_type": "execute_result"
    }
   ],
   "source": [
    "old_columns = quat.columns\n",
    "column_names = ['time', 'pelvis_imu', 'torso_imu', 'humerus_l_imu','ulna_l_imu', 'humerus_r_imu', 'ulna_r_imu']\n",
    "col_names = {}\n",
    "for i, name in enumerate(column_names):\n",
    "    col_names[old_columns[i]] = name\n",
    "\n",
    "new_quat = quat.drop('ulna_r_imu',axis = 1)\n",
    "new_quat = new_quat.rename(columns = col_names)\n",
    "new_quat.head()"
   ]
  },
  {
   "cell_type": "code",
   "execution_count": 18,
   "metadata": {},
   "outputs": [
    {
     "data": {
      "text/plain": [
       "'0.6781073700985305,0.7292247296983889,0.07722600965381142,-0.04937440275401273'"
      ]
     },
     "execution_count": 18,
     "metadata": {},
     "output_type": "execute_result"
    }
   ],
   "source": [
    "new_quat.iloc[0,1]"
   ]
  },
  {
   "cell_type": "code",
   "execution_count": 11,
   "metadata": {},
   "outputs": [
    {
     "name": "stdout",
     "output_type": "stream",
     "text": [
      "(112, 36)\n"
     ]
    },
    {
     "data": {
      "text/plain": [
       "array([0.80, -9.77, 1.84, -0.01, -0.01, 0.01, 2.01, -5.44, 8.23, 0.01,\n",
       "       0.01, -0.01, -3.26, -3.67, 8.91, 0.00, 0.00, -0.01, 0.41, -4.90,\n",
       "       8.77, 0.01, 0.01, 0.00, -2.48, -0.72, 9.49, -0.01, 0.00, 0.01,\n",
       "       -0.43, 3.61, 9.34, -0.00, -0.00, -0.00])"
      ]
     },
     "execution_count": 11,
     "metadata": {},
     "output_type": "execute_result"
    }
   ],
   "source": [
    "print(imu.shape)\n",
    "\n",
    "float_formatter = \"{:.2f}\".format\n",
    "np.set_printoptions(formatter={'float_kind':float_formatter})\n",
    "\n",
    "imu[0]"
   ]
  },
  {
   "attachments": {},
   "cell_type": "markdown",
   "metadata": {},
   "source": [
    "imu - raw IMu data formatted to 2 dp\n",
    "quat data, to check if the IMU processing is correct. \n",
    "Aim of this is to create a python script that can process the raw IMU data to quartertnion data. The quat data can be IK solved and visualised in opensim"
   ]
  },
  {
   "cell_type": "code",
   "execution_count": 33,
   "metadata": {},
   "outputs": [],
   "source": [
    "from ahrs.filters import Madgwick\n",
    "madgwick = Madgwick()\n",
    "Q = np.tile([1., 0., 0., 0.], (112, 1)) # Allocate for quaternions\n",
    "\n",
    "Q[0] = [0.6781073700985305,0.7292247296983889,0.07722600965381142,-0.04937440275401273]\n",
    "\n",
    "for i in range(1,112):\n",
    "    Q[i] = madgwick.updateIMU(Q[i-1],gyr = imu[i,3:6],acc = imu[i,0:3])"
   ]
  },
  {
   "cell_type": "code",
   "execution_count": 37,
   "metadata": {},
   "outputs": [
    {
     "data": {
      "text/plain": [
       "(112, 36)"
      ]
     },
     "execution_count": 37,
     "metadata": {},
     "output_type": "execute_result"
    }
   ],
   "source": [
    "imu.shape"
   ]
  },
  {
   "cell_type": "code",
   "execution_count": 68,
   "metadata": {},
   "outputs": [],
   "source": [
    "sto_filename = r\"C:\\Users\\chris\\Documents\\Visualisation\\Opensim\\Results\\23-04-03_1325\\tiny_file.sto\"\n",
    "\n",
    "def processIMU(imu_data, sto_filename):\n",
    "    madgwick = Madgwick()\n",
    "    rows = imu_data.shape[0]\n",
    "    Q = np.tile([1., 0., 0., 0.], (rows, 6))\n",
    "    Q[0] = process_sto(sto_filename)\n",
    "\n",
    "    for row in range(1,rows):\n",
    "        for sn in range(6):\n",
    "            imu_readings = imu[row,sn*6:sn*6 + 6]\n",
    "            accel_imu = imu_readings[:3]\n",
    "            gyro_imu = imu_readings[3:]\n",
    "\n",
    "            Q[row,4*(sn):4*(sn+1)] = madgwick.updateIMU(\n",
    "                Q[row-1,4*(sn):4*(sn+1)],\n",
    "                gyr=gyro_imu,\n",
    "                acc=accel_imu)\n",
    "\n",
    "    return Q\n",
    "\n",
    "\n",
    "def process_sto(sto_filename):\n",
    "    f = open(sto_filename,\"r\")\n",
    "    lines = f.readlines()\n",
    "    data = lines[-1].split(\"\\t\")\n",
    "    \n",
    "    quats = data[1:]\n",
    "    #print(quats)\n",
    "    res = []\n",
    "    for item in quats:\n",
    "        res = res + list(map(float,item.split(\",\")))\n",
    "    \n",
    "    return res\n",
    "\n",
    "def create_sto(Q,sto_filename,new_sto_filename):\n",
    "    f = open(sto_filename,\"r\")\n",
    "    lines = f.readlines()\n",
    "\n",
    "    new_file = open(new_sto_filename,\"w\")\n",
    "    for i in range(5):\n",
    "        new_file.write(lines[i])\n",
    "\n",
    "    data_rate = float(lines[0].split(\"=\")[-1])\n",
    "    dt = 1/data_rate\n",
    "\n",
    "    for i in range(Q.shape[0]):\n",
    "        time_stamp = i*dt\n",
    "        new_file.write(\"{}\".format(round(time_stamp,2)))\n",
    "\n",
    "        for sensor in range(6):\n",
    "            start_index = sensor * 4\n",
    "            new_file.write(\"\\t{},{},{},{}\".format(\n",
    "                Q[i,start_index],\n",
    "                Q[i,start_index+1],\n",
    "                Q[i,start_index+2],\n",
    "                Q[i,start_index+3]))\n",
    "        new_file.write(\"\\n\")\n",
    "    \n",
    "    new_file.close()\n",
    "\n",
    "    \n"
   ]
  },
  {
   "cell_type": "code",
   "execution_count": 56,
   "metadata": {},
   "outputs": [],
   "source": [
    "q = processIMU(imu,sto_filename)"
   ]
  },
  {
   "cell_type": "code",
   "execution_count": 69,
   "metadata": {},
   "outputs": [
    {
     "ename": "UnsupportedOperation",
     "evalue": "not writable",
     "output_type": "error",
     "traceback": [
      "\u001b[1;31m---------------------------------------------------------------------------\u001b[0m",
      "\u001b[1;31mUnsupportedOperation\u001b[0m                      Traceback (most recent call last)",
      "Cell \u001b[1;32mIn[69], line 2\u001b[0m\n\u001b[0;32m      1\u001b[0m new_sto_filename \u001b[39m=\u001b[39m \u001b[39mr\u001b[39m\u001b[39m\"\u001b[39m\u001b[39mC:\u001b[39m\u001b[39m\\\u001b[39m\u001b[39mUsers\u001b[39m\u001b[39m\\\u001b[39m\u001b[39mchris\u001b[39m\u001b[39m\\\u001b[39m\u001b[39mDocuments\u001b[39m\u001b[39m\\\u001b[39m\u001b[39mVisualisation\u001b[39m\u001b[39m\\\u001b[39m\u001b[39mOpensim\u001b[39m\u001b[39m\\\u001b[39m\u001b[39mResults\u001b[39m\u001b[39m\\\u001b[39m\u001b[39m23-04-03_1325\u001b[39m\u001b[39m\\\u001b[39m\u001b[39mnew_sto\u001b[39m\u001b[39m\"\u001b[39m\n\u001b[1;32m----> 2\u001b[0m create_sto(Q,sto_filename,new_sto_filename)\n",
      "Cell \u001b[1;32mIn[68], line 49\u001b[0m, in \u001b[0;36mcreate_sto\u001b[1;34m(Q, sto_filename, new_sto_filename)\u001b[0m\n\u001b[0;32m     47\u001b[0m \u001b[39mfor\u001b[39;00m i \u001b[39min\u001b[39;00m \u001b[39mrange\u001b[39m(Q\u001b[39m.\u001b[39mshape[\u001b[39m0\u001b[39m]):\n\u001b[0;32m     48\u001b[0m     time_stamp \u001b[39m=\u001b[39m i\u001b[39m*\u001b[39mdt\n\u001b[1;32m---> 49\u001b[0m     f\u001b[39m.\u001b[39;49mwrite(\u001b[39m\"\u001b[39;49m\u001b[39m{}\u001b[39;49;00m\u001b[39m\"\u001b[39;49m\u001b[39m.\u001b[39;49mformat(\u001b[39mround\u001b[39;49m(time_stamp,\u001b[39m2\u001b[39;49m)))\n\u001b[0;32m     51\u001b[0m     \u001b[39mfor\u001b[39;00m sensor \u001b[39min\u001b[39;00m \u001b[39mrange\u001b[39m(\u001b[39m6\u001b[39m):\n\u001b[0;32m     52\u001b[0m         start_index \u001b[39m=\u001b[39m sensor \u001b[39m*\u001b[39m \u001b[39m4\u001b[39m\n",
      "\u001b[1;31mUnsupportedOperation\u001b[0m: not writable"
     ]
    }
   ],
   "source": [
    "new_sto_filename = r\"C:\\Users\\chris\\Documents\\Visualisation\\Opensim\\Results\\23-04-03_1325\\new_sto.sto\"\n",
    "create_sto(Q,sto_filename,new_sto_filename)"
   ]
  },
  {
   "cell_type": "code",
   "execution_count": null,
   "metadata": {},
   "outputs": [],
   "source": []
  }
 ],
 "metadata": {
  "kernelspec": {
   "display_name": "opensim_scripting",
   "language": "python",
   "name": "python3"
  },
  "language_info": {
   "codemirror_mode": {
    "name": "ipython",
    "version": 3
   },
   "file_extension": ".py",
   "mimetype": "text/x-python",
   "name": "python",
   "nbconvert_exporter": "python",
   "pygments_lexer": "ipython3",
   "version": "3.8.10"
  },
  "orig_nbformat": 4
 },
 "nbformat": 4,
 "nbformat_minor": 2
}
